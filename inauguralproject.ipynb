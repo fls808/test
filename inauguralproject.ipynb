{
 "cells": [
  {
   "cell_type": "markdown",
   "metadata": {},
   "source": [
    "# Inaugural Project"
   ]
  },
  {
   "attachments": {},
   "cell_type": "markdown",
   "metadata": {},
   "source": [
    "> **Note the following:** \n",
    "> 1. This is an example of how to structure your **inaugural project**.\n",
    "> 1. Remember the general advice on structuring and commenting your code\n",
    "> 1. The `inauguralproject.py` file includes a function which can be used multiple times in this notebook."
   ]
  },
  {
   "cell_type": "markdown",
   "metadata": {},
   "source": [
    "Imports and set magics:"
   ]
  },
  {
   "cell_type": "code",
   "execution_count": 1,
   "metadata": {},
   "outputs": [],
   "source": [
    "import numpy as np\n",
    "import numba as nb\n",
    "\n",
    "# autoreload modules when code is run. Otherwise, python will not see recent changes. \n",
    "%load_ext autoreload\n",
    "%autoreload 2\n",
    "\n",
    "%matplotlib inline\n",
    "from mpl_toolkits.mplot3d import Axes3D # Used implictely when doing 3D plots\n",
    "import matplotlib.pyplot as plt\n",
    "from mpl_toolkits import mplot3d\n",
    "from scipy import optimize\n",
    "\n",
    "# Import your own code"
   ]
  },
  {
   "cell_type": "code",
   "execution_count": 2,
   "metadata": {},
   "outputs": [],
   "source": [
    "from specialization import HouseholdSpecializationModelClass"
   ]
  },
  {
   "cell_type": "markdown",
   "metadata": {},
   "source": [
    "# Question 1"
   ]
  },
  {
   "cell_type": "code",
   "execution_count": 59,
   "metadata": {},
   "outputs": [],
   "source": [
    "model=HouseholdSpecializationModelClass()\n",
    "par=model.par\n",
    "sol=model.sol"
   ]
  },
  {
   "cell_type": "code",
   "execution_count": null,
   "metadata": {},
   "outputs": [],
   "source": [
    "alpha_values=[0.25,0.5,0.75]\n",
    "sigma_values=[0.5,1.0,1.5]\n",
    "rel = np.nan + np.zeros((3, 3))\n",
    "for i_a, alpha in enumerate(alpha_values):\n",
    "    for i_s, sigma in enumerate(sigma_values):\n",
    "        idx=(i_a,i_s)\n",
    "        model.par.alpha = alpha\n",
    "        model.par.sigma=sigma\n",
    "        res=model.solve_discrete()\n",
    "        rel[idx]=res.HF/res.HM\n",
    "        \n",
    "        "
   ]
  },
  {
   "cell_type": "code",
   "execution_count": null,
   "metadata": {},
   "outputs": [],
   "source": [
    "print(rel)"
   ]
  },
  {
   "cell_type": "code",
   "execution_count": null,
   "metadata": {},
   "outputs": [],
   "source": [
    "alpha_mesh, sigma_mesh = np.meshgrid(alpha_values, sigma_values, indexing='ij')"
   ]
  },
  {
   "cell_type": "code",
   "execution_count": null,
   "metadata": {},
   "outputs": [],
   "source": [
    "%matplotlib widget\n",
    "fig=plt.figure()\n",
    "ax=plt.axes(projection='3d')\n",
    "ax.plot_surface(alpha_mesh, sigma_mesh, rel)\n",
    "ax.set_xlabel('$alpha$')\n",
    "ax.set_ylabel('$sigma$')\n",
    "ax.set_zlabel('$HF/HM$')\n",
    "# note: fig.add_subplot(a,b,c) creates the c'th subplot in a grid of a times b plots\n",
    "fig.tight_layout()"
   ]
  },
  {
   "attachments": {},
   "cell_type": "markdown",
   "metadata": {},
   "source": [
    "## Question 2"
   ]
  },
  {
   "cell_type": "code",
   "execution_count": null,
   "metadata": {},
   "outputs": [],
   "source": [
    "model.par.alpha=0.5\n",
    "model.par.sigma=1\n",
    "model.par.wM=1\n",
    "\n",
    "model.solve_wF_vec(discrete=True)\n",
    "log_wF_vec=np.log(model.par.wF_vec)\n",
    "log_HFHM=np.log(model.sol.HF_vec/model.sol.HM_vec)"
   ]
  },
  {
   "cell_type": "code",
   "execution_count": null,
   "metadata": {},
   "outputs": [],
   "source": [
    "%matplotlib inline\n",
    "fig=plt.figure()\n",
    "ax= fig.add_subplot(1,1,1)\n",
    "ax.plot(log_wF_vec,log_HFHM)\n",
    "ax.set_xlabel('log(wF/wM)')\n",
    "ax.set_ylabel('log(HF/HM)')\n"
   ]
  },
  {
   "attachments": {},
   "cell_type": "markdown",
   "metadata": {},
   "source": [
    "## Question 3"
   ]
  },
  {
   "cell_type": "code",
   "execution_count": null,
   "metadata": {},
   "outputs": [],
   "source": [
    "model.solve_wF_vec()\n",
    "\n",
    "log_wF_vec=np.log(model.par.wF_vec)\n",
    "log_HFHM=np.log(model.sol.HF_vec/model.sol.HM_vec)"
   ]
  },
  {
   "cell_type": "code",
   "execution_count": null,
   "metadata": {},
   "outputs": [],
   "source": [
    "%matplotlib inline\n",
    "fig=plt.figure()\n",
    "ax= fig.add_subplot(1,1,1)\n",
    "ax.plot(log_wF_vec,log_HFHM)\n",
    "ax.set_xlabel('log(wF/wM)')\n",
    "ax.set_ylabel('log(HF/HM)')"
   ]
  },
  {
   "attachments": {},
   "cell_type": "markdown",
   "metadata": {},
   "source": [
    "## Question 4"
   ]
  },
  {
   "cell_type": "code",
   "execution_count": 60,
   "metadata": {},
   "outputs": [],
   "source": [
    "par.gender=0\n",
    "model.estimate()"
   ]
  },
  {
   "cell_type": "code",
   "execution_count": null,
   "metadata": {},
   "outputs": [],
   "source": [
    "print(sol.alpha_estimate, sol.sigma_estimate)"
   ]
  },
  {
   "cell_type": "code",
   "execution_count": 61,
   "metadata": {},
   "outputs": [
    {
     "data": {
      "text/plain": [
       "0.1696784736499783"
      ]
     },
     "execution_count": 61,
     "metadata": {},
     "output_type": "execute_result"
    }
   ],
   "source": [
    "x=[sol.alpha_estimate,sol.sigma_estimate]\n",
    "model.objective_regression(x)"
   ]
  },
  {
   "attachments": {},
   "cell_type": "markdown",
   "metadata": {},
   "source": [
    "## Question 5"
   ]
  },
  {
   "attachments": {},
   "cell_type": "markdown",
   "metadata": {},
   "source": [
    "$$\n",
    "\\begin{align*}\n",
    "T_M= L_M^\\gamma H_M^{1-\\gamma} \\\\\n",
    "T_F= L_F^\\phi H_F^{1-\\phi} \\\\\n",
    "L_M+H_M\\leq 24 \\\\\n",
    "L_W+H_W \\leq 24\n",
    "\\end{align*}\n",
    "$$"
   ]
  },
  {
   "cell_type": "code",
   "execution_count": 62,
   "metadata": {},
   "outputs": [],
   "source": [
    "model_1=HouseholdSpecializationModelClass()\n",
    "sol=model_1.sol\n"
   ]
  },
  {
   "cell_type": "code",
   "execution_count": 63,
   "metadata": {},
   "outputs": [
    {
     "name": "stderr",
     "output_type": "stream",
     "text": [
      "/Users/HP/Documents/Skole/Uni/Introduction to programming and numerical analysis/projects-2023-lise-adam/inauguralproject/specialization.py:78: RuntimeWarning: divide by zero encountered in double_scalars\n",
      "  \n",
      "/Users/HP/Documents/Skole/Uni/Introduction to programming and numerical analysis/projects-2023-lise-adam/inauguralproject/specialization.py:78: RuntimeWarning: overflow encountered in double_scalars\n",
      "  \n",
      "/Users/HP/Documents/Skole/Uni/Introduction to programming and numerical analysis/projects-2023-lise-adam/inauguralproject/specialization.py:202: RuntimeWarning: divide by zero encountered in true_divide\n",
      "  y = np.log(sol.HF_vec/sol.HM_vec)\n"
     ]
    }
   ],
   "source": [
    "par.gender=1\n",
    "model_1.estimate()"
   ]
  },
  {
   "cell_type": "code",
   "execution_count": 64,
   "metadata": {},
   "outputs": [
    {
     "name": "stdout",
     "output_type": "stream",
     "text": [
      "0.0030354693927421273 0.1164297532046002 0.8725816341296377\n"
     ]
    }
   ],
   "source": [
    "print(sol.sigma_estimate, sol.gamma_estimate, sol.phi_estimate)"
   ]
  },
  {
   "cell_type": "code",
   "execution_count": 65,
   "metadata": {},
   "outputs": [
    {
     "data": {
      "text/plain": [
       "0.010012497032218662"
      ]
     },
     "execution_count": 65,
     "metadata": {},
     "output_type": "execute_result"
    }
   ],
   "source": [
    "x=[sol.sigma_estimate,sol.gamma_estimate,sol.phi_estimate]\n",
    "model_1.objective_regression(x)"
   ]
  }
 ],
 "metadata": {
  "kernelspec": {
   "display_name": "base",
   "language": "python",
   "name": "python3"
  },
  "language_info": {
   "codemirror_mode": {
    "name": "ipython",
    "version": 3
   },
   "file_extension": ".py",
   "mimetype": "text/x-python",
   "name": "python",
   "nbconvert_exporter": "python",
   "pygments_lexer": "ipython3",
   "version": "3.9.13"
  },
  "toc-autonumbering": true,
  "vscode": {
   "interpreter": {
    "hash": "d6a7506cbdc5ff21aea4cc4f4535f0b4f583d02f5963a7256ebce0c9d7032410"
   }
  }
 },
 "nbformat": 4,
 "nbformat_minor": 4
}
